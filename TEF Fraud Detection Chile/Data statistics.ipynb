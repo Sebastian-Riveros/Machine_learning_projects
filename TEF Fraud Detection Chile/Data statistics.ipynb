{
 "cells": [
  {
   "cell_type": "code",
   "execution_count": 16,
   "id": "277ab0aa-6862-4fd2-9378-5e569fd522eb",
   "metadata": {},
   "outputs": [
    {
     "name": "stdout",
     "output_type": "stream",
     "text": [
      "\n",
      "====DATASET OVERVIEW====\n",
      "Dataset shape: (94593, 36)\n",
      "\n",
      "====DATA INFO====\n",
      "<class 'pandas.core.frame.DataFrame'>\n",
      "RangeIndex: 94593 entries, 0 to 94592\n",
      "Data columns (total 36 columns):\n",
      " #   Column                             Non-Null Count  Dtype  \n",
      "---  ------                             --------------  -----  \n",
      " 0   transaction_id                     94593 non-null  object \n",
      " 1   timestamp                          94593 non-null  object \n",
      " 2   sender_id                          94593 non-null  object \n",
      " 3   receiver_id                        94593 non-null  object \n",
      " 4   amount                             94593 non-null  float64\n",
      " 5   currency                           94593 non-null  object \n",
      " 6   transaction_type                   94593 non-null  object \n",
      " 7   sender_bank                        94593 non-null  object \n",
      " 8   sender_balance_before              94593 non-null  float64\n",
      " 9   sender_balance_after               94593 non-null  float64\n",
      " 10  receiver_balance_before            94593 non-null  float64\n",
      " 11  receiver_balance_after             94593 non-null  float64\n",
      " 12  is_fraud                           94593 non-null  int64  \n",
      " 13  fraud_type                         94593 non-null  object \n",
      " 14  sender_location_lat                94593 non-null  float64\n",
      " 15  sender_location_lon                94593 non-null  float64\n",
      " 16  receiver_location_lat              94593 non-null  float64\n",
      " 17  receiver_location_lon              94593 non-null  float64\n",
      " 18  distance_from_home                 94593 non-null  float64\n",
      " 19  time_since_last_transaction        94593 non-null  float64\n",
      " 20  sender_device_id                   94593 non-null  object \n",
      " 21  receiver_device_id                 94593 non-null  object \n",
      " 22  sender_ip_address                  94593 non-null  object \n",
      " 23  receiver_ip_address                94593 non-null  object \n",
      " 24  sender_account_age                 94593 non-null  int64  \n",
      " 25  sender_avg_daily_transactions      94593 non-null  float64\n",
      " 26  sender_avg_daily_amount            94593 non-null  float64\n",
      " 27  sender_recent_account_changes      94593 non-null  object \n",
      " 28  sender_communication_channel_flag  94593 non-null  object \n",
      " 29  last_24h_count                     94593 non-null  int64  \n",
      " 30  avg_amount_last_7d                 94593 non-null  float64\n",
      " 31  amount_vs_avg                      94593 non-null  float64\n",
      " 32  recent_tx_ratio                    94593 non-null  float64\n",
      " 33  sender_balance_delta               94593 non-null  float64\n",
      " 34  receiver_balance_delta             94593 non-null  float64\n",
      " 35  distance_sender_receiver           94593 non-null  float64\n",
      "dtypes: float64(19), int64(3), object(14)\n",
      "memory usage: 26.0+ MB\n",
      "\n",
      "====DATA STATISTICS====\n",
      "                                 count          mean           std  \\\n",
      "amount                         94593.0  1.328847e+05  6.732684e+05   \n",
      "sender_balance_before          94593.0  5.050375e+06  2.884896e+06   \n",
      "sender_balance_after           94593.0  4.932216e+06  2.921359e+06   \n",
      "receiver_balance_before        94593.0  2.365957e+06  3.192887e+06   \n",
      "receiver_balance_after         94593.0  2.452018e+06  3.296185e+06   \n",
      "is_fraud                       94593.0  2.199951e-02  1.466825e-01   \n",
      "sender_location_lat            94593.0 -3.639163e+01  1.084090e+01   \n",
      "sender_location_lon            94593.0 -7.046606e+01  2.586919e+00   \n",
      "receiver_location_lat          94593.0 -3.608691e+01  1.089905e+01   \n",
      "receiver_location_lon          94593.0 -7.049294e+01  2.604972e+00   \n",
      "distance_from_home             94593.0  3.039842e+02  7.219175e+02   \n",
      "time_since_last_transaction    94593.0  1.788582e+02  5.220711e+02   \n",
      "sender_account_age             94593.0  1.822991e+03  1.045700e+03   \n",
      "sender_avg_daily_transactions  94593.0  6.338565e+00  9.152855e+00   \n",
      "sender_avg_daily_amount        94593.0  6.402265e+05  1.248418e+06   \n",
      "last_24h_count                 94593.0  5.377776e-02  2.327759e-01   \n",
      "avg_amount_last_7d             94593.0  3.587005e+04  2.968438e+05   \n",
      "amount_vs_avg                  94593.0 -5.073418e+05  1.200996e+06   \n",
      "recent_tx_ratio                94593.0  2.108697e-02  1.098251e-01   \n",
      "sender_balance_delta           94593.0  1.181589e+05  3.070700e+05   \n",
      "receiver_balance_delta         94593.0  8.606106e+04  6.617206e+05   \n",
      "distance_sender_receiver       94593.0  1.458069e+03  9.451925e+02   \n",
      "\n",
      "                                        min           25%           50%  \\\n",
      "amount                         1.280000e+02  5.079000e+03  1.613100e+04   \n",
      "sender_balance_before          6.851911e+03  2.586726e+06  4.987671e+06   \n",
      "sender_balance_after           0.000000e+00  2.434404e+06  4.856922e+06   \n",
      "receiver_balance_before        0.000000e+00  0.000000e+00  0.000000e+00   \n",
      "receiver_balance_after         0.000000e+00  0.000000e+00  4.863700e+04   \n",
      "is_fraud                       0.000000e+00  0.000000e+00  0.000000e+00   \n",
      "sender_location_lat           -5.510342e+01 -4.583215e+01 -3.652860e+01   \n",
      "sender_location_lon           -7.510779e+01 -7.271341e+01 -7.043199e+01   \n",
      "receiver_location_lat         -5.499965e+01 -4.572156e+01 -3.622878e+01   \n",
      "receiver_location_lon         -7.499958e+01 -7.278024e+01 -7.047118e+01   \n",
      "distance_from_home             4.579020e-02  4.264834e+00  7.003353e+00   \n",
      "time_since_last_transaction    0.000000e+00  0.000000e+00  0.000000e+00   \n",
      "sender_account_age             1.000000e+00  9.150000e+02  1.809000e+03   \n",
      "sender_avg_daily_transactions  1.000095e+00  1.806966e+00  2.588305e+00   \n",
      "sender_avg_daily_amount        8.806347e+02  1.888149e+04  3.688224e+04   \n",
      "last_24h_count                 0.000000e+00  0.000000e+00  0.000000e+00   \n",
      "avg_amount_last_7d             0.000000e+00  0.000000e+00  0.000000e+00   \n",
      "amount_vs_avg                 -4.940895e+06 -1.666534e+05 -1.830295e+04   \n",
      "recent_tx_ratio                0.000000e+00  0.000000e+00  0.000000e+00   \n",
      "sender_balance_delta           1.280000e+02  5.079000e+03  1.613100e+04   \n",
      "receiver_balance_delta         0.000000e+00  0.000000e+00  1.000000e+03   \n",
      "distance_sender_receiver       2.770396e+00  6.680763e+02  1.267570e+03   \n",
      "\n",
      "                                        75%           max  \n",
      "amount                         6.856000e+04  4.559250e+07  \n",
      "sender_balance_before          7.403059e+06  1.608766e+07  \n",
      "sender_balance_after           7.315500e+06  1.603129e+07  \n",
      "receiver_balance_before        4.659234e+06  1.597422e+07  \n",
      "receiver_balance_after         4.815100e+06  4.569249e+07  \n",
      "is_fraud                       0.000000e+00  1.000000e+00  \n",
      "sender_location_lat           -2.700161e+01 -1.739631e+01  \n",
      "sender_location_lon           -6.823144e+01 -6.585620e+01  \n",
      "receiver_location_lat         -2.656663e+01 -1.750590e+01  \n",
      "receiver_location_lon         -6.821698e+01 -6.600123e+01  \n",
      "distance_from_home             1.230923e+01  4.186193e+03  \n",
      "time_since_last_transaction    0.000000e+00  4.316015e+03  \n",
      "sender_account_age             2.728000e+03  3.649000e+03  \n",
      "sender_avg_daily_transactions  7.235127e+00  4.999357e+01  \n",
      "sender_avg_daily_amount        2.845990e+05  4.999961e+06  \n",
      "last_24h_count                 0.000000e+00  3.000000e+00  \n",
      "avg_amount_last_7d             3.299000e+03  4.079669e+07  \n",
      "amount_vs_avg                 -4.294547e+03  4.098074e+07  \n",
      "recent_tx_ratio                0.000000e+00  2.025804e+00  \n",
      "sender_balance_delta           6.855300e+04  8.604292e+06  \n",
      "receiver_balance_delta         1.941900e+04  4.559250e+07  \n",
      "distance_sender_receiver       2.120290e+03  4.164959e+03  \n",
      "\n",
      "====MISSING DATA====\n",
      "Empty DataFrame\n",
      "Columns: [Missing_count, Missing_percent]\n",
      "Index: []\n"
     ]
    }
   ],
   "source": [
    "import pandas as pd\n",
    "import numpy as np\n",
    "import seaborn as sns\n",
    "import ptitprince as pt\n",
    "import matplotlib.pyplot as plt\n",
    "\n",
    "\n",
    "data = pd.read_csv(r\"C:\\Users\\ASUS TUF GAMING\\Desktop\\SEBA\\master\\data science\\portfolio\\TEF Fraud detection\\pipeline para generar datos sintéticos TEF\\dataset_final1.csv\")\n",
    "\n",
    "print(\"\\n====DATASET OVERVIEW====\")\n",
    "print(f\"Dataset shape: {data.shape}\")\n",
    "\n",
    "# display basic data info\n",
    "print(\"\\n====DATA INFO====\")\n",
    "data.info()\n",
    "\n",
    "# display summary statistics\n",
    "print(\"\\n====DATA STATISTICS====\")\n",
    "print(data.describe().T)\n",
    "\n",
    "# check for missinf values\n",
    "print(\"\\n====MISSING DATA====\")\n",
    "missing_data = data.isnull().sum()\n",
    "missing_data_pc = (missing_data / len(data)) * 100\n",
    "missing_data_summary= pd.DataFrame({\"Missing_count\": missing_data,\n",
    "                                    \"Missing_percent\": missing_data_pc})\n",
    "print(missing_data_summary[missing_data_summary[\"Missing_count\"] > 0].sort_values(\"Missing_count\", ascending = False))"
   ]
  },
  {
   "cell_type": "code",
   "execution_count": 2,
   "id": "993026f4-4d56-44d9-819c-5ba8806d61ca",
   "metadata": {},
   "outputs": [],
   "source": [
    "# Reemplaza los valores faltantes en la columna \"receiver_data_id\" con \"merchant_terminal\"\n",
    "#data[\"avg_amount_last_7d\"].fillna(\"0.0\", inplace=True)\n",
    "data.fillna({\"avg_amount_last_7d\": 0}, inplace=True)"
   ]
  },
  {
   "cell_type": "code",
   "execution_count": 3,
   "id": "ebf77648-a598-4803-a5a8-1185ef8deebf",
   "metadata": {},
   "outputs": [
    {
     "name": "stdout",
     "output_type": "stream",
     "text": [
      "\n",
      "====MISSING DATA====\n",
      "Empty DataFrame\n",
      "Columns: [Missing_count, Missing_percent]\n",
      "Index: []\n"
     ]
    }
   ],
   "source": [
    "# check for missinf values\n",
    "print(\"\\n====MISSING DATA====\")\n",
    "missing_data = data.isnull().sum()\n",
    "missing_data_pc = (missing_data / len(data)) * 100\n",
    "missing_data_summary= pd.DataFrame({\"Missing_count\": missing_data,\n",
    "                                    \"Missing_percent\": missing_data_pc})\n",
    "print(missing_data_summary[missing_data_summary[\"Missing_count\"] > 0].sort_values(\"Missing_count\", ascending = False))"
   ]
  },
  {
   "cell_type": "code",
   "execution_count": 4,
   "id": "d7fa0b1b-1e6a-47d4-a5a1-7d9cd3c3984e",
   "metadata": {},
   "outputs": [
    {
     "data": {
      "text/plain": [
       "<bound method NDFrame.describe of 0           0.0\n",
       "1           0.0\n",
       "2           0.0\n",
       "3           0.0\n",
       "4           0.0\n",
       "          ...  \n",
       "94588       0.0\n",
       "94589    6746.0\n",
       "94590    5277.5\n",
       "94591       0.0\n",
       "94592       0.0\n",
       "Name: avg_amount_last_7d, Length: 94593, dtype: float64>"
      ]
     },
     "execution_count": 4,
     "metadata": {},
     "output_type": "execute_result"
    }
   ],
   "source": [
    "data[\"avg_amount_last_7d\"].describe"
   ]
  },
  {
   "cell_type": "code",
   "execution_count": 5,
   "id": "139cc42f-6817-4822-b4ad-621db9668ec1",
   "metadata": {},
   "outputs": [
    {
     "name": "stdout",
     "output_type": "stream",
     "text": [
      "\n",
      "====DATASET OVERVIEW====\n",
      "Dataset shape: (94593, 36)\n",
      "\n",
      "====DATA INFO====\n",
      "<class 'pandas.core.frame.DataFrame'>\n",
      "RangeIndex: 94593 entries, 0 to 94592\n",
      "Data columns (total 36 columns):\n",
      " #   Column                             Non-Null Count  Dtype  \n",
      "---  ------                             --------------  -----  \n",
      " 0   transaction_id                     94593 non-null  object \n",
      " 1   timestamp                          94593 non-null  object \n",
      " 2   sender_id                          94593 non-null  object \n",
      " 3   receiver_id                        94593 non-null  object \n",
      " 4   amount                             94593 non-null  float64\n",
      " 5   currency                           94593 non-null  object \n",
      " 6   transaction_type                   94593 non-null  object \n",
      " 7   sender_bank                        94593 non-null  object \n",
      " 8   sender_balance_before              94593 non-null  float64\n",
      " 9   sender_balance_after               94593 non-null  float64\n",
      " 10  receiver_balance_before            94593 non-null  float64\n",
      " 11  receiver_balance_after             94593 non-null  float64\n",
      " 12  is_fraud                           94593 non-null  int64  \n",
      " 13  fraud_type                         94593 non-null  object \n",
      " 14  sender_location_lat                94593 non-null  float64\n",
      " 15  sender_location_lon                94593 non-null  float64\n",
      " 16  receiver_location_lat              94593 non-null  float64\n",
      " 17  receiver_location_lon              94593 non-null  float64\n",
      " 18  distance_from_home                 94593 non-null  float64\n",
      " 19  time_since_last_transaction        94593 non-null  float64\n",
      " 20  sender_device_id                   94593 non-null  object \n",
      " 21  receiver_device_id                 94593 non-null  object \n",
      " 22  sender_ip_address                  94593 non-null  object \n",
      " 23  receiver_ip_address                94593 non-null  object \n",
      " 24  sender_account_age                 94593 non-null  int64  \n",
      " 25  sender_avg_daily_transactions      94593 non-null  float64\n",
      " 26  sender_avg_daily_amount            94593 non-null  float64\n",
      " 27  sender_recent_account_changes      94593 non-null  object \n",
      " 28  sender_communication_channel_flag  94593 non-null  object \n",
      " 29  last_24h_count                     94593 non-null  int64  \n",
      " 30  avg_amount_last_7d                 94593 non-null  float64\n",
      " 31  amount_vs_avg                      94593 non-null  float64\n",
      " 32  recent_tx_ratio                    94593 non-null  float64\n",
      " 33  sender_balance_delta               94593 non-null  float64\n",
      " 34  receiver_balance_delta             94593 non-null  float64\n",
      " 35  distance_sender_receiver           94593 non-null  float64\n",
      "dtypes: float64(19), int64(3), object(14)\n",
      "memory usage: 26.0+ MB\n",
      "\n",
      "====DATA STATISTICS====\n",
      "                                 count          mean           std  \\\n",
      "amount                         94593.0  1.328847e+05  6.732684e+05   \n",
      "sender_balance_before          94593.0  5.050375e+06  2.884896e+06   \n",
      "sender_balance_after           94593.0  4.932216e+06  2.921359e+06   \n",
      "receiver_balance_before        94593.0  2.365957e+06  3.192887e+06   \n",
      "receiver_balance_after         94593.0  2.452018e+06  3.296185e+06   \n",
      "is_fraud                       94593.0  2.199951e-02  1.466825e-01   \n",
      "sender_location_lat            94593.0 -3.639163e+01  1.084090e+01   \n",
      "sender_location_lon            94593.0 -7.046606e+01  2.586919e+00   \n",
      "receiver_location_lat          94593.0 -3.608691e+01  1.089905e+01   \n",
      "receiver_location_lon          94593.0 -7.049294e+01  2.604972e+00   \n",
      "distance_from_home             94593.0  3.039842e+02  7.219175e+02   \n",
      "time_since_last_transaction    94593.0  1.788582e+02  5.220711e+02   \n",
      "sender_account_age             94593.0  1.822991e+03  1.045700e+03   \n",
      "sender_avg_daily_transactions  94593.0  6.338565e+00  9.152855e+00   \n",
      "sender_avg_daily_amount        94593.0  6.402265e+05  1.248418e+06   \n",
      "last_24h_count                 94593.0  5.377776e-02  2.327759e-01   \n",
      "avg_amount_last_7d             94593.0  3.587005e+04  2.968438e+05   \n",
      "amount_vs_avg                  94593.0 -5.073418e+05  1.200996e+06   \n",
      "recent_tx_ratio                94593.0  2.108697e-02  1.098251e-01   \n",
      "sender_balance_delta           94593.0  1.181589e+05  3.070700e+05   \n",
      "receiver_balance_delta         94593.0  8.606106e+04  6.617206e+05   \n",
      "distance_sender_receiver       94593.0  1.458069e+03  9.451925e+02   \n",
      "\n",
      "                                        min           25%           50%  \\\n",
      "amount                         1.280000e+02  5.079000e+03  1.613100e+04   \n",
      "sender_balance_before          6.851911e+03  2.586726e+06  4.987671e+06   \n",
      "sender_balance_after           0.000000e+00  2.434404e+06  4.856922e+06   \n",
      "receiver_balance_before        0.000000e+00  0.000000e+00  0.000000e+00   \n",
      "receiver_balance_after         0.000000e+00  0.000000e+00  4.863700e+04   \n",
      "is_fraud                       0.000000e+00  0.000000e+00  0.000000e+00   \n",
      "sender_location_lat           -5.510342e+01 -4.583215e+01 -3.652860e+01   \n",
      "sender_location_lon           -7.510779e+01 -7.271341e+01 -7.043199e+01   \n",
      "receiver_location_lat         -5.499965e+01 -4.572156e+01 -3.622878e+01   \n",
      "receiver_location_lon         -7.499958e+01 -7.278024e+01 -7.047118e+01   \n",
      "distance_from_home             4.579020e-02  4.264834e+00  7.003353e+00   \n",
      "time_since_last_transaction    0.000000e+00  0.000000e+00  0.000000e+00   \n",
      "sender_account_age             1.000000e+00  9.150000e+02  1.809000e+03   \n",
      "sender_avg_daily_transactions  1.000095e+00  1.806966e+00  2.588305e+00   \n",
      "sender_avg_daily_amount        8.806347e+02  1.888149e+04  3.688224e+04   \n",
      "last_24h_count                 0.000000e+00  0.000000e+00  0.000000e+00   \n",
      "avg_amount_last_7d             0.000000e+00  0.000000e+00  0.000000e+00   \n",
      "amount_vs_avg                 -4.940895e+06 -1.666534e+05 -1.830295e+04   \n",
      "recent_tx_ratio                0.000000e+00  0.000000e+00  0.000000e+00   \n",
      "sender_balance_delta           1.280000e+02  5.079000e+03  1.613100e+04   \n",
      "receiver_balance_delta         0.000000e+00  0.000000e+00  1.000000e+03   \n",
      "distance_sender_receiver       2.770396e+00  6.680763e+02  1.267570e+03   \n",
      "\n",
      "                                        75%           max  \n",
      "amount                         6.856000e+04  4.559250e+07  \n",
      "sender_balance_before          7.403059e+06  1.608766e+07  \n",
      "sender_balance_after           7.315500e+06  1.603129e+07  \n",
      "receiver_balance_before        4.659234e+06  1.597422e+07  \n",
      "receiver_balance_after         4.815100e+06  4.569249e+07  \n",
      "is_fraud                       0.000000e+00  1.000000e+00  \n",
      "sender_location_lat           -2.700161e+01 -1.739631e+01  \n",
      "sender_location_lon           -6.823144e+01 -6.585620e+01  \n",
      "receiver_location_lat         -2.656663e+01 -1.750590e+01  \n",
      "receiver_location_lon         -6.821698e+01 -6.600123e+01  \n",
      "distance_from_home             1.230923e+01  4.186193e+03  \n",
      "time_since_last_transaction    0.000000e+00  4.316015e+03  \n",
      "sender_account_age             2.728000e+03  3.649000e+03  \n",
      "sender_avg_daily_transactions  7.235127e+00  4.999357e+01  \n",
      "sender_avg_daily_amount        2.845990e+05  4.999961e+06  \n",
      "last_24h_count                 0.000000e+00  3.000000e+00  \n",
      "avg_amount_last_7d             3.299000e+03  4.079669e+07  \n",
      "amount_vs_avg                 -4.294547e+03  4.098074e+07  \n",
      "recent_tx_ratio                0.000000e+00  2.025804e+00  \n",
      "sender_balance_delta           6.855300e+04  8.604292e+06  \n",
      "receiver_balance_delta         1.941900e+04  4.559250e+07  \n",
      "distance_sender_receiver       2.120290e+03  4.164959e+03  \n",
      "\n",
      "====MISSING DATA====\n",
      "Empty DataFrame\n",
      "Columns: [Missing_count, Missing_percent]\n",
      "Index: []\n"
     ]
    }
   ],
   "source": [
    "\n",
    "print(\"\\n====DATASET OVERVIEW====\")\n",
    "print(f\"Dataset shape: {data.shape}\")\n",
    "\n",
    "# display basic data info\n",
    "print(\"\\n====DATA INFO====\")\n",
    "data.info()\n",
    "\n",
    "# display summary statistics\n",
    "print(\"\\n====DATA STATISTICS====\")\n",
    "print(data.describe().T)\n",
    "\n",
    "# check for missinf values\n",
    "print(\"\\n====MISSING DATA====\")\n",
    "missing_data = data.isnull().sum()\n",
    "missing_data_pc = (missing_data / len(data)) * 100\n",
    "missing_data_summary= pd.DataFrame({\"Missing_count\": missing_data,\n",
    "                                    \"Missing_percent\": missing_data_pc})\n",
    "print(missing_data_summary[missing_data_summary[\"Missing_count\"] > 0].sort_values(\"Missing_count\", ascending = False))"
   ]
  },
  {
   "cell_type": "code",
   "execution_count": 6,
   "id": "d25a1610-9ef2-4f4a-8627-04b989d6f631",
   "metadata": {},
   "outputs": [
    {
     "name": "stdout",
     "output_type": "stream",
     "text": [
      "\n",
      "====TARGET VARIABLE ANAYSIS====\n",
      "is_fraud min: 0\n",
      "is_fraud max: 1\n",
      "is_fraud mean: 0.02\n",
      "is_fraud median: 0.00\n",
      "is_fraud skewness: 6.52\n",
      "is_fraud kurtosis: 40.48\n"
     ]
    }
   ],
   "source": [
    " ## Analyze the target variable (is_fraud)\n",
    "print(\"\\n====TARGET VARIABLE ANAYSIS====\")\n",
    "print(f\"is_fraud min: {data['is_fraud'].min()}\")\n",
    "print(f\"is_fraud max: {data['is_fraud'].max()}\")\n",
    "print(f\"is_fraud mean: {data['is_fraud'].mean():.2f}\")\n",
    "print(f\"is_fraud median: {data['is_fraud'].median():.2f}\")\n",
    "print(f\"is_fraud skewness: {data['is_fraud'].skew():.2f}\")\n",
    "print(f\"is_fraud kurtosis: {data['is_fraud'].kurtosis():.2f}\")\n"
   ]
  },
  {
   "cell_type": "code",
   "execution_count": 7,
   "id": "201b1005-b53b-4889-9d10-f39a45d904cc",
   "metadata": {},
   "outputs": [
    {
     "data": {
      "image/png": "[encoded data removed]",
      "text/plain": [
       "<Figure size 1000x600 with 1 Axes>"
      ]
     },
     "metadata": {},
     "output_type": "display_data"
    }
   ],
   "source": [
    "# Assuming you have the dataset loaded in df and it contains a column 'fraud_type'\n",
    "\n",
    "# Convert the 'fraud_type' column to categorical type (if not already)\n",
    "data['fraud_type'] = data['fraud_type'].astype('category')\n",
    "\n",
    "# Group the data by 'fraud_type' and calculate the count of each group\n",
    "fraud_count = data['fraud_type'].value_counts()\n",
    "\n",
    "# Create a bar chart to visualize the proportion of each type of fraud\n",
    "plt.figure(figsize=(10, 6))\n",
    "fraud_count.plot(kind='bar', color=['blue', 'green', 'red', 'orange', 'purple', 'gray', 'black'])\n",
    "plt.title('Proporción de Fraude por Tipo')\n",
    "plt.xlabel('Tipo de Fraude')\n",
    "plt.ylabel('Cant. Fraude')\n",
    "plt.xticks(rotation=45)\n",
    "plt.tight_layout()\n",
    "\n",
    "# Display the plot\n",
    "plt.show()"
   ]
  },
  {
   "cell_type": "code",
   "execution_count": null,
   "id": "6bb63d6e-5ac0-426a-92e1-c7f4295afd03",
   "metadata": {},
   "outputs": [],
   "source": [
    "# Convert the 'sender_bank' column to categorical type (if not already)\n",
    "data['sender_bank'] = data['sender_bank'].astype('category')\n",
    "\n",
    "# Group the data by 'fraud_type' and calculate the count of each group\n",
    "fraud_count = data['sender_bank'].value_counts()\n",
    "\n",
    "# Create a bar chart to visualize the proportion of each type of fraud\n",
    "plt.figure(figsize=(10, 6))\n",
    "fraud_count.plot(kind='bar', color=['blue', 'green', 'red', 'orange', 'purple', 'gray', 'black'])\n",
    "plt.title('Proporción de Fraude por Tipo de banco')\n",
    "plt.xlabel('tipo de banco')\n",
    "plt.ylabel('Cant. Fraude')\n",
    "plt.xticks(rotation=45)\n",
    "plt.tight_layout()\n",
    "\n",
    "# Display the plot\n",
    "plt.show()"
   ]
  },
  {
   "cell_type": "code",
   "execution_count": null,
   "id": "7a3ed035-2138-4f47-a9d3-1cfc69a2d4ea",
   "metadata": {},
   "outputs": [],
   "source": [
    "data['fraud_type'] = data['fraud_type'].astype('category')\n",
    "\n",
    "# filter the dataset for fraudulent transactions\n",
    "fraud_transactions = data[data['is_fraud'] == 1]\n",
    "\n",
    "# filter the dataset for legitimate transactions\n",
    "legitimate_transactions = data[data['is_fraud'] == 0]\n",
    "\n",
    "# create a histogram of the amount for both fraudulent and legitimate transactions\n",
    "plt.figure(figsize=(10, 6))\n",
    "\n",
    "# histogram for fraudulent transactions\n",
    "fraud_amount_hist = fraud_transactions['amount'].hist(bins=20, alpha = 0.7, color = 'red', edgecolor= 'black')\n",
    "fraud_amount_hist.set_title('Distribución de montos fraudulentos')\n",
    "fraud_amount_hist.set_xlabel('frecuencia')\n",
    "fraud_amount_hist.set_ylabel('monto')\n",
    "\n",
    "# histogram for legitimate transactions\n",
    "\n",
    "legitimate_amount_hist = legitimate_transactions['amount'].hist(bins=20, alpha=0.7, color = 'blue', edgecolor = 'black')\n",
    "legitimate_amount_hist.set_title('distribución de montos legitimos')\n",
    "legitimate_amount_hist.set_xlabel('frecuencia')\n",
    "legitimate_amount_hist.set_ylabel('monto')\n",
    "\n",
    "# add a legend to the plot\n",
    "plt.legend(['Fraudulentas', 'Legitimas'])\n",
    "\n",
    "#display the plot\n",
    "plt.tight_layout()\n",
    "plt.show()"
   ]
  },
  {
   "cell_type": "code",
   "execution_count": null,
   "id": "5351e7e1-fcd0-46c1-900a-e552e5fee000",
   "metadata": {},
   "outputs": [],
   "source": [
    "# filter the dataset for legitimate transactions\n",
    "legitimate_transactions = data[data['is_fraud'] == 0]\n",
    "\n",
    "# histogram for legitimate transactions\n",
    "\n",
    "legitimate_amount_hist = legitimate_transactions['amount'].hist(bins=20, alpha=0.7, color = 'blue', edgecolor = 'black')\n",
    "legitimate_amount_hist.set_title('distribución de montos legitimos')\n",
    "legitimate_amount_hist.set_xlabel('monto')\n",
    "legitimate_amount_hist.set_ylabel('frecuencia')\n",
    "\n",
    "# add a legend to the plot\n",
    "plt.legend(['Legitimas'])\n",
    "\n",
    "#display the plot\n",
    "plt.tight_layout()\n",
    "plt.show()"
   ]
  },
  {
   "cell_type": "code",
   "execution_count": null,
   "id": "d3bb1ced-38dd-4c51-b4a4-39f62da9dea9",
   "metadata": {},
   "outputs": [],
   "source": [
    "# create a histogram of the amount for both fraudulent and legitimate transactions\n",
    "plt.figure(figsize=(10, 6))\n",
    "\n",
    "# histogram for fraudulent transactions\n",
    "fraud_amount_hist = fraud_transactions['amount'].hist(bins=20, alpha = 0.7, color = 'red', edgecolor= 'black')\n",
    "fraud_amount_hist.set_title('Distribución de montos fraudulentos')\n",
    "fraud_amount_hist.set_xlabel('monto')\n",
    "fraud_amount_hist.set_ylabel('frecuencia')\n",
    "\n",
    "# add a legend to the plot\n",
    "plt.legend(['Fraudulentas'])\n",
    "\n",
    "#display the plot\n",
    "plt.tight_layout()\n",
    "plt.show()"
   ]
  },
  {
   "cell_type": "code",
   "execution_count": null,
   "id": "99ec6116-2a1e-4308-9d61-28ac4bdb0267",
   "metadata": {},
   "outputs": [],
   "source": [
    "# create a histogram of the amount for both fraudulent and legitimate transactions\n",
    "plt.figure(figsize=(10, 6))\n",
    "\n",
    "# histogram for fraudulent transactions\n",
    "fraud_amount_hist = fraud_transactions['distance_from_home'].hist(bins=20, alpha = 0.7, color = 'red', edgecolor= 'black')\n",
    "fraud_amount_hist.set_title('Distribución de montos fraudulentos')\n",
    "fraud_amount_hist.set_xlabel('distancia del hogar')\n",
    "fraud_amount_hist.set_ylabel('frecuencia')\n",
    "\n",
    "# add a legend to the plot\n",
    "plt.legend(['Fraudulentas'])\n",
    "\n",
    "#display the plot\n",
    "plt.tight_layout()\n",
    "plt.show()"
   ]
  },
  {
   "cell_type": "code",
   "execution_count": null,
   "id": "12362f4b-02ee-4570-8bae-d937d9448615",
   "metadata": {},
   "outputs": [],
   "source": [
    "# filter the dataset for legitimate transactions\n",
    "legitimate_transactions = data[data['is_fraud'] == 0]\n",
    "\n",
    "# histogram for legitimate transactions\n",
    "\n",
    "legitimate_amount_hist = legitimate_transactions['distance_from_home'].hist(bins=20, alpha=0.7, color = 'blue', edgecolor = 'black')\n",
    "legitimate_amount_hist.set_title('distribución de distancias del hogar')\n",
    "legitimate_amount_hist.set_xlabel('distancia del hogar')\n",
    "legitimate_amount_hist.set_ylabel('frecuencia')\n",
    "\n",
    "# add a legend to the plot\n",
    "plt.legend(['Legitimas'])\n",
    "\n",
    "#display the plot\n",
    "plt.tight_layout()\n",
    "plt.show()"
   ]
  },
  {
   "cell_type": "code",
   "execution_count": null,
   "id": "4ff4a50b-6924-46b4-bbd1-dbcd03f0d9a0",
   "metadata": {},
   "outputs": [],
   "source": [
    "# create a histogram of the amount for both fraudulent and legitimate transactions\n",
    "plt.figure(figsize=(10, 6))\n",
    "\n",
    "# histogram for fraudulent transactions\n",
    "fraud_amount_hist = fraud_transactions['sender_account_age'].hist(bins=20, alpha = 0.7, color = 'red', edgecolor= 'black')\n",
    "fraud_amount_hist.set_title('Distribución de antiguedad para montos fraudulentos')\n",
    "fraud_amount_hist.set_xlabel('antiguedad de la cuenta')\n",
    "fraud_amount_hist.set_ylabel('frecuencia')\n",
    "\n",
    "# add a legend to the plot\n",
    "plt.legend(['Fraudulentas'])\n",
    "\n",
    "#display the plot\n",
    "plt.tight_layout()\n",
    "plt.show()"
   ]
  },
  {
   "cell_type": "code",
   "execution_count": null,
   "id": "2945fc6e-936d-4b37-b401-d9567ebf8170",
   "metadata": {},
   "outputs": [],
   "source": [
    "# histogram for legitimate transactions\n",
    "\n",
    "legitimate_amount_hist = legitimate_transactions['sender_account_age'].hist(bins=20, alpha=0.7, color = 'blue', edgecolor = 'black')\n",
    "legitimate_amount_hist.set_title('distribución de cuentas antiguas para montos legitimos')\n",
    "legitimate_amount_hist.set_xlabel('antiguedad de la cuenta')\n",
    "legitimate_amount_hist.set_ylabel('frecuencia')\n",
    "\n",
    "# add a legend to the plot\n",
    "plt.legend(['Legitimas'])\n",
    "\n",
    "#display the plot\n",
    "plt.tight_layout()\n",
    "plt.show()"
   ]
  },
  {
   "cell_type": "code",
   "execution_count": null,
   "id": "034c3eb0-dac5-4fe2-af27-9381fdc14809",
   "metadata": {},
   "outputs": [],
   "source": [
    "# Correlation analysis\n",
    "print(\"\\n===== CORRELATION ANALYSIS =====\")\n",
    "# Select only numeric columns\n",
    "numeric_data = data.select_dtypes(include=[np.number])\n",
    "correlation_matrix = numeric_data.corr()\n",
    "\n",
    "# Find top features correlated with is_fraud\n",
    "is_fraud_correlation = (correlation_matrix['is_fraud']).sort_values(ascending=False)\n",
    "print(\"\\nTop 10 features positively correlated with is_fraud:\")\n",
    "print(is_fraud_correlation[1:11])  # Exclude is_fraud itself\n",
    "\n",
    "print(\"\\nTop 5 features negatively correlated with is_fraud:\")\n",
    "print(is_fraud_correlation.tail(5))"
   ]
  },
  {
   "cell_type": "code",
   "execution_count": null,
   "id": "0b5d288c-88d2-4a10-b5bc-e7eb9ba0ef11",
   "metadata": {},
   "outputs": [],
   "source": [
    "data['timestamp'] = pd.to_datetime(data['timestamp'], errors='coerce', utc=True)\n",
    "data['timestamp'] = data['timestamp'].dt.tz_convert('America/Santiago').dt.tz_localize(None)\n"
   ]
  },
  {
   "cell_type": "code",
   "execution_count": null,
   "id": "f81b3a26-328d-4347-a8cc-f36df43a2344",
   "metadata": {},
   "outputs": [],
   "source": [
    "df = data.sort_values(['sender_id','timestamp'])"
   ]
  },
  {
   "cell_type": "code",
   "execution_count": 10,
   "id": "43d07a05-57b4-4698-9fde-a60298a5e2a1",
   "metadata": {},
   "outputs": [
    {
     "data": {
      "text/plain": [
       "Index(['transaction_id', 'timestamp', 'sender_id', 'receiver_id', 'amount',\n",
       "       'currency', 'transaction_type', 'sender_bank', 'sender_balance_before',\n",
       "       'sender_balance_after', 'receiver_balance_before',\n",
       "       'receiver_balance_after', 'is_fraud', 'fraud_type',\n",
       "       'sender_location_lat', 'sender_location_lon', 'receiver_location_lat',\n",
       "       'receiver_location_lon', 'distance_from_home',\n",
       "       'time_since_last_transaction', 'sender_device_id', 'receiver_device_id',\n",
       "       'sender_ip_address', 'receiver_ip_address', 'sender_account_age',\n",
       "       'sender_avg_daily_transactions', 'sender_avg_daily_amount',\n",
       "       'sender_recent_account_changes', 'sender_communication_channel_flag',\n",
       "       'last_24h_count', 'avg_amount_last_7d', 'amount_vs_avg',\n",
       "       'recent_tx_ratio', 'sender_balance_delta', 'receiver_balance_delta',\n",
       "       'distance_sender_receiver'],\n",
       "      dtype='object')"
      ]
     },
     "execution_count": 10,
     "metadata": {},
     "output_type": "execute_result"
    }
   ],
   "source": [
    "data.columns"
   ]
  },
  {
   "cell_type": "code",
   "execution_count": null,
   "id": "82d66d0d-cdb1-4a50-8b4e-2488c8fe2e38",
   "metadata": {},
   "outputs": [],
   "source": [
    "import numpy as np\n",
    "\n",
    "df['last_24h_count'] = 0\n",
    "\n",
    "for sender in df['sender_id'].unique():\n",
    "    sender_df = df[df['sender_id']==sender]\n",
    "    times = sender_df['timestamp'].values\n",
    "    counts = np.zeros(len(times), dtype=int)\n",
    "    \n",
    "    # Puntero para la ventana de 24h\n",
    "    start = 0\n",
    "    for i in range(len(times)):\n",
    "        while times[start] < times[i] - np.timedelta64(24, 'h'):\n",
    "            start += 1\n",
    "        counts[i] = i - start  # número de transacciones previas en 24h\n",
    "    \n",
    "    df.loc[sender_df.index, 'last_24h_count'] = counts"
   ]
  },
  {
   "cell_type": "code",
   "execution_count": null,
   "id": "0ff4fed3-f504-476d-ad47-367244103ba6",
   "metadata": {},
   "outputs": [],
   "source": [
    "subset = (\n",
    "    df[df['sender_id'] == 'USER_001627']\n",
    "    .sort_values('timestamp')\n",
    "    [['timestamp', 'last_24h_count']]\n",
    ")\n",
    "print(subset.head(20))"
   ]
  },
  {
   "cell_type": "code",
   "execution_count": null,
   "id": "dedc0b55-2edb-4ea5-a26b-d31f73b024a9",
   "metadata": {},
   "outputs": [],
   "source": [
    "import numpy as np\n",
    "\n",
    "df['avg_amount_last_7d'] = 0.0\n",
    "\n",
    "for sender in df['sender_id'].unique():\n",
    "    sender_df = df[df['sender_id'] == sender]\n",
    "    times = sender_df['timestamp'].values\n",
    "    amounts = sender_df['amount'].values\n",
    "    avg_7d = np.zeros(len(times))\n",
    "    \n",
    "    start = 0\n",
    "    for i in range(len(times)):\n",
    "        while times[start] < times[i] - np.timedelta64(7, 'D'):\n",
    "            start += 1\n",
    "        if i - start > 0:\n",
    "            avg_7d[i] = amounts[start:i].mean()\n",
    "        else:\n",
    "            avg_7d[i] = np.nan  # o 0\n",
    "    df.loc[sender_df.index, 'avg_amount_last_7d'] = avg_7d\n"
   ]
  },
  {
   "cell_type": "code",
   "execution_count": null,
   "id": "ba84f98b-94de-4c71-8aa6-a09571374951",
   "metadata": {},
   "outputs": [],
   "source": [
    "subset = (\n",
    "    df[df['sender_id'] == 'USER_001627']\n",
    "    .sort_values('timestamp')\n",
    "    [['timestamp', 'avg_amount_last_7d']]\n",
    ")\n",
    "print(subset.head(20))"
   ]
  },
  {
   "cell_type": "code",
   "execution_count": null,
   "id": "9742eacb-db1b-4f4d-8a2d-de154b756349",
   "metadata": {},
   "outputs": [],
   "source": [
    "df['amount_vs_avg'] = df['amount'] - df['sender_avg_daily_amount']"
   ]
  },
  {
   "cell_type": "code",
   "execution_count": null,
   "id": "a389b63a-5298-4758-bda3-fcf3462d967c",
   "metadata": {},
   "outputs": [],
   "source": [
    "df['recent_tx_ratio'] = df['last_24h_count'] / df['sender_avg_daily_transactions']"
   ]
  },
  {
   "cell_type": "code",
   "execution_count": null,
   "id": "28b9d77d-f18a-4670-ad3c-e3667e5940d1",
   "metadata": {},
   "outputs": [],
   "source": [
    "df.head()"
   ]
  },
  {
   "cell_type": "code",
   "execution_count": null,
   "id": "594e130e-c2b5-4c00-b8da-f39c3681559e",
   "metadata": {},
   "outputs": [],
   "source": [
    "df['sender_balance_delta'] = df['sender_balance_before'] - df['sender_balance_after']\n",
    "df['receiver_balance_delta'] = df['receiver_balance_after'] - df['receiver_balance_before']"
   ]
  },
  {
   "cell_type": "code",
   "execution_count": null,
   "id": "b3004700-ae11-432e-9d5b-9f7a768216ba",
   "metadata": {},
   "outputs": [],
   "source": [
    "from geopy.distance import geodesic\n",
    "\n",
    "def calc_distance(row):\n",
    "    return geodesic(\n",
    "        (row['sender_location_lat'], row['sender_location_lon']),\n",
    "        (row['receiver_location_lat'], row['receiver_location_lon'])\n",
    "    ).km\n",
    "\n",
    "df['distance_sender_receiver'] = df.apply(calc_distance, axis=1)"
   ]
  },
  {
   "cell_type": "code",
   "execution_count": null,
   "id": "19009c29-6bb8-49ef-a8e9-d03ca663e610",
   "metadata": {},
   "outputs": [],
   "source": [
    "df['distance_sender_receiver'].head()"
   ]
  },
  {
   "cell_type": "code",
   "execution_count": 12,
   "id": "0f6ed233-3383-42c3-a92b-6b9f1180f4be",
   "metadata": {},
   "outputs": [
    {
     "data": {
      "text/plain": [
       "(94593, 36)"
      ]
     },
     "execution_count": 12,
     "metadata": {},
     "output_type": "execute_result"
    }
   ],
   "source": [
    "data.shape"
   ]
  },
  {
   "cell_type": "code",
   "execution_count": 13,
   "id": "cf91b21f-a117-4410-911a-ca0bf84aee4a",
   "metadata": {},
   "outputs": [
    {
     "data": {
      "text/plain": [
       "0"
      ]
     },
     "execution_count": 13,
     "metadata": {},
     "output_type": "execute_result"
    }
   ],
   "source": [
    "data['avg_amount_last_7d'].isna().sum()"
   ]
  },
  {
   "cell_type": "code",
   "execution_count": 14,
   "id": "de49ca95-d273-4a7c-923a-10de4b7b0000",
   "metadata": {},
   "outputs": [
    {
     "name": "stdout",
     "output_type": "stream",
     "text": [
      "dataset guardado como dataset_final1.csv\n"
     ]
    }
   ],
   "source": [
    "data.to_csv('dataset_final1.csv', index = False)\n",
    "print('dataset guardado como dataset_final1.csv')"
   ]
  },
  {
   "cell_type": "code",
   "execution_count": 15,
   "id": "4c0e9caf-c5e1-4c35-9bdd-8fd358983589",
   "metadata": {},
   "outputs": [
    {
     "data": {
      "text/plain": [
       "transaction_id                         object\n",
       "timestamp                              object\n",
       "sender_id                              object\n",
       "receiver_id                            object\n",
       "amount                                float64\n",
       "currency                               object\n",
       "transaction_type                       object\n",
       "sender_bank                            object\n",
       "sender_balance_before                 float64\n",
       "sender_balance_after                  float64\n",
       "receiver_balance_before               float64\n",
       "receiver_balance_after                float64\n",
       "is_fraud                                int64\n",
       "fraud_type                           category\n",
       "sender_location_lat                   float64\n",
       "sender_location_lon                   float64\n",
       "receiver_location_lat                 float64\n",
       "receiver_location_lon                 float64\n",
       "distance_from_home                    float64\n",
       "time_since_last_transaction           float64\n",
       "sender_device_id                       object\n",
       "receiver_device_id                     object\n",
       "sender_ip_address                      object\n",
       "receiver_ip_address                    object\n",
       "sender_account_age                      int64\n",
       "sender_avg_daily_transactions         float64\n",
       "sender_avg_daily_amount               float64\n",
       "sender_recent_account_changes          object\n",
       "sender_communication_channel_flag      object\n",
       "last_24h_count                          int64\n",
       "avg_amount_last_7d                    float64\n",
       "amount_vs_avg                         float64\n",
       "recent_tx_ratio                       float64\n",
       "sender_balance_delta                  float64\n",
       "receiver_balance_delta                float64\n",
       "distance_sender_receiver              float64\n",
       "dtype: object"
      ]
     },
     "execution_count": 15,
     "metadata": {},
     "output_type": "execute_result"
    }
   ],
   "source": [
    "data.dtypes"
   ]
  },
  {
   "cell_type": "code",
   "execution_count": null,
   "id": "308cb58f-c22a-4fa0-b7a8-43359ecdf08b",
   "metadata": {},
   "outputs": [],
   "source": []
  }
 ],
 "metadata": {
  "kernelspec": {
   "display_name": "Python 3 (ipykernel)",
   "language": "python",
   "name": "python3"
  },
  "language_info": {
   "codemirror_mode": {
    "name": "ipython",
    "version": 3
   },
   "file_extension": ".py",
   "mimetype": "text/x-python",
   "name": "python",
   "nbconvert_exporter": "python",
   "pygments_lexer": "ipython3",
   "version": "3.10.8"
  }
 },
 "nbformat": 4,
 "nbformat_minor": 5
}
